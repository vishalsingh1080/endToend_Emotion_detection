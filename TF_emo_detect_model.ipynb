{
  "nbformat": 4,
  "nbformat_minor": 0,
  "metadata": {
    "colab": {
      "name": "TF-emo_detect_model.ipynb",
      "provenance": [],
      "collapsed_sections": [],
      "include_colab_link": true
    },
    "kernelspec": {
      "name": "python3",
      "display_name": "Python 3"
    },
    "language_info": {
      "name": "python"
    },
    "accelerator": "GPU"
  },
  "cells": [
    {
      "cell_type": "markdown",
      "metadata": {
        "id": "view-in-github",
        "colab_type": "text"
      },
      "source": [
        "<a href=\"https://colab.research.google.com/github/vishalsingh1080/endToend_Emotion_detection/blob/main/TF_emo_detect_model.ipynb\" target=\"_parent\"><img src=\"https://colab.research.google.com/assets/colab-badge.svg\" alt=\"Open In Colab\"/></a>"
      ]
    },
    {
      "cell_type": "code",
      "metadata": {
        "id": "kqcEHWEj-Ort"
      },
      "source": [
        "import tensorflow as tf\n",
        "from tensorflow.keras.preprocessing.image import ImageDataGenerator\n",
        "from tensorflow.keras import layers\n",
        "from tensorflow.keras.layers import Dense,Conv2D,Dropout,BatchNormalization,MaxPool2D\n",
        "from tensorflow.keras.activations import relu\n",
        "from tensorflow.keras.callbacks import ModelCheckpoint\n",
        "from tensorflow.keras.optimizers import SGD\n",
        "from tensorflow.keras.losses import CategoricalCrossentropy\n",
        "from tensorflow.keras.callbacks import ReduceLROnPlateau\n",
        "from sklearn.metrics import classification_report\n",
        "import cv2\n",
        "import os\n",
        "import pandas as pd\n",
        "import numpy as np\n",
        "import matplotlib.pyplot as plt\n",
        "from PIL import Image\n",
        "import warnings\n",
        "warnings.filterwarnings(\"ignore\")"
      ],
      "execution_count": 1,
      "outputs": []
    },
    {
      "cell_type": "code",
      "metadata": {
        "colab": {
          "base_uri": "https://localhost:8080/"
        },
        "id": "c5qx_P71-0sX",
        "outputId": "b54b561e-c23b-4197-8008-351adf357096"
      },
      "source": [
        "from google.colab import drive\n",
        "drive.mount('/content/gdrive')"
      ],
      "execution_count": 2,
      "outputs": [
        {
          "output_type": "stream",
          "name": "stdout",
          "text": [
            "Mounted at /content/gdrive\n"
          ]
        }
      ]
    },
    {
      "cell_type": "code",
      "metadata": {
        "colab": {
          "base_uri": "https://localhost:8080/"
        },
        "id": "MkfNgfFWJp5A",
        "outputId": "86de7356-5d9c-41c8-cc2a-f2b23126756c"
      },
      "source": [
        "device_name = tf.test.gpu_device_name()\n",
        "print(device_name) "
      ],
      "execution_count": 3,
      "outputs": [
        {
          "output_type": "stream",
          "name": "stdout",
          "text": [
            "/device:GPU:0\n"
          ]
        }
      ]
    },
    {
      "cell_type": "code",
      "metadata": {
        "id": "GFTNtLXJB-q9"
      },
      "source": [
        "!unzip -q '/content/gdrive/My Drive/emotion_detection/FER2013.zip' -d FER2013\n",
        "!unzip -q '/content/gdrive/My Drive/emotion_detection/private_test.zip' -d private_test"
      ],
      "execution_count": 4,
      "outputs": []
    },
    {
      "cell_type": "markdown",
      "metadata": {
        "id": "bFCpIi_-46an"
      },
      "source": [
        "0=Angry, 1=Disgust, 2=Fear, 3=Happy, 4=Sad, 5=Surprise, 6=Neutral"
      ]
    },
    {
      "cell_type": "code",
      "metadata": {
        "colab": {
          "base_uri": "https://localhost:8080/"
        },
        "id": "SNA8uY6HG2Vu",
        "outputId": "2c99532c-6150-49a9-e40a-7c5b978f9712"
      },
      "source": [
        "img = cv2.imread('/content/FER2013/train/angry/Training_10118481.jpg')\n",
        "img.shape"
      ],
      "execution_count": null,
      "outputs": [
        {
          "output_type": "execute_result",
          "data": {
            "text/plain": [
              "(48, 48, 3)"
            ]
          },
          "metadata": {},
          "execution_count": 6
        }
      ]
    },
    {
      "cell_type": "code",
      "metadata": {
        "id": "VTm3bWQeHEo5",
        "colab": {
          "base_uri": "https://localhost:8080/",
          "height": 284
        },
        "outputId": "ad874e21-7399-4c3d-fb38-ed3ed64ca462"
      },
      "source": [
        "plt.imshow(img)"
      ],
      "execution_count": null,
      "outputs": [
        {
          "output_type": "execute_result",
          "data": {
            "text/plain": [
              "<matplotlib.image.AxesImage at 0x7f3482374d90>"
            ]
          },
          "metadata": {},
          "execution_count": 7
        },
        {
          "output_type": "display_data",
          "data": {
            "image/png": "[encoded data removed]",
            "text/plain": [
              "<Figure size 432x288 with 1 Axes>"
            ]
          },
          "metadata": {
            "needs_background": "light"
          }
        }
      ]
    },
    {
      "cell_type": "code",
      "metadata": {
        "id": "JuCOdreWjPJW",
        "colab": {
          "base_uri": "https://localhost:8080/"
        },
        "outputId": "2e9a358f-8f44-4b7c-82fc-6a59256fda96"
      },
      "source": [
        "img = cv2.imread('/content/private_test/disgust/disgust-000034.png')\n",
        "img.shape"
      ],
      "execution_count": null,
      "outputs": [
        {
          "output_type": "execute_result",
          "data": {
            "text/plain": [
              "(48, 48, 3)"
            ]
          },
          "metadata": {},
          "execution_count": 8
        }
      ]
    },
    {
      "cell_type": "code",
      "metadata": {
        "id": "H5yV4A0ojya6",
        "colab": {
          "base_uri": "https://localhost:8080/",
          "height": 284
        },
        "outputId": "d01c85cd-fbb1-4a9e-96a9-d38af13c8450"
      },
      "source": [
        "plt.imshow(img)"
      ],
      "execution_count": null,
      "outputs": [
        {
          "output_type": "execute_result",
          "data": {
            "text/plain": [
              "<matplotlib.image.AxesImage at 0x7f3481e560d0>"
            ]
          },
          "metadata": {},
          "execution_count": 9
        },
        {
          "output_type": "display_data",
          "data": {
            "image/png": "[encoded data removed]",
            "text/plain": [
              "<Figure size 432x288 with 1 Axes>"
            ]
          },
          "metadata": {
            "needs_background": "light"
          }
        }
      ]
    },
    {
      "cell_type": "code",
      "metadata": {
        "id": "QCmYBsxb1xK4"
      },
      "source": [
        "# initialize the training data augmentation object\n",
        "trainAug = ImageDataGenerator( rescale=1./255,\n",
        "                            rotation_range=20,\n",
        "                            width_shift_range=0.2,\n",
        "                            height_shift_range=0.2,\n",
        "                            horizontal_flip=True)\n",
        "# initialize the validation/testing data augmentation object \n",
        "valAug = ImageDataGenerator(rescale=1./255)"
      ],
      "execution_count": 5,
      "outputs": []
    },
    {
      "cell_type": "code",
      "metadata": {
        "colab": {
          "base_uri": "https://localhost:8080/"
        },
        "id": "dKHRbagT2Gv_",
        "outputId": "2ae3f959-fcde-4045-e4c0-7b10e357279a"
      },
      "source": [
        "# initialize the training generator\n",
        "trainGen = trainAug.flow_from_directory(\n",
        "\t'/content/FER2013/train',\n",
        "  class_mode=\"categorical\",\n",
        "\ttarget_size=(48,48),\n",
        "\tcolor_mode=\"grayscale\",\n",
        "\tshuffle=True,\n",
        "\tbatch_size=64)\n",
        "# initialize the validation generator\n",
        "valGen = valAug.flow_from_directory(\n",
        "\t'/content/FER2013/test',\n",
        "  class_mode=\"categorical\",\n",
        "\ttarget_size=(48,48),\n",
        "\tcolor_mode=\"grayscale\",\n",
        "\tshuffle=False,\n",
        "\tbatch_size=64)\n",
        "# initialize the testing generator\n",
        "testGen = valAug.flow_from_directory(\n",
        "\t'/content/private_test',\n",
        "  class_mode=\"categorical\",\n",
        "\ttarget_size=(48,48),\n",
        "\tcolor_mode=\"grayscale\",\n",
        "\tshuffle=False,\n",
        "\tbatch_size=64)"
      ],
      "execution_count": 6,
      "outputs": [
        {
          "output_type": "stream",
          "name": "stdout",
          "text": [
            "Found 28709 images belonging to 7 classes.\n",
            "Found 7178 images belonging to 7 classes.\n",
            "Found 3589 images belonging to 7 classes.\n"
          ]
        }
      ]
    },
    {
      "cell_type": "code",
      "metadata": {
        "id": "KdxYmOBcmQll",
        "colab": {
          "base_uri": "https://localhost:8080/"
        },
        "outputId": "e2274987-2e5a-4654-82e6-850e61f78924"
      },
      "source": [
        "no_train_files =  sum(len(files) for _, _, files in os.walk(r'/content/FER2013/train'))\n",
        "no_val_files = sum(len(files) for _, _, files in os.walk(r'/content/FER2013/test'))\n",
        "no_test_files = sum(len(files) for _, _, files in os.walk(r'/content/private_test'))\n",
        "\n",
        "print(no_train_files,no_val_files,no_test_files)"
      ],
      "execution_count": 7,
      "outputs": [
        {
          "output_type": "stream",
          "name": "stdout",
          "text": [
            "28709 7178 3589\n"
          ]
        }
      ]
    },
    {
      "cell_type": "code",
      "metadata": {
        "id": "8NWQo1mhyMJe",
        "colab": {
          "base_uri": "https://localhost:8080/"
        },
        "outputId": "0b19f9cd-295b-487b-9893-73bcf77cf05b"
      },
      "source": [
        "test = next(trainGen)\n",
        "test[0].shape"
      ],
      "execution_count": null,
      "outputs": [
        {
          "output_type": "execute_result",
          "data": {
            "text/plain": [
              "(64, 48, 48, 1)"
            ]
          },
          "metadata": {},
          "execution_count": 13
        }
      ]
    },
    {
      "cell_type": "code",
      "metadata": {
        "colab": {
          "base_uri": "https://localhost:8080/"
        },
        "id": "PY8jX7rfCJE-",
        "outputId": "c6ab5b21-3cfe-40b8-e80c-fe7e1a763b84"
      },
      "source": [
        "valGen.class_indices"
      ],
      "execution_count": 8,
      "outputs": [
        {
          "output_type": "execute_result",
          "data": {
            "text/plain": [
              "{'angry': 0,\n",
              " 'disgust': 1,\n",
              " 'fear': 2,\n",
              " 'happy': 3,\n",
              " 'neutral': 4,\n",
              " 'sad': 5,\n",
              " 'surprise': 6}"
            ]
          },
          "metadata": {},
          "execution_count": 8
        }
      ]
    },
    {
      "cell_type": "code",
      "metadata": {
        "id": "DN4Fq8TeT8ii"
      },
      "source": [
        "# path_to_downloaded_file = tf.keras.utils.get_file('rcmalli_vggface_tf_vgg16.h5','https://github.com/rcmalli/keras-vggface/releases/download/v2.0/rcmalli_vggface_tf_notop_vgg16.h5')\n",
        "\n",
        "# baseModel = VGG16(input_shape=(128, 128,3),include_top = False,weights='/root/.keras/datasets/rcmalli_vggface_tf_vgg16.h5',)\n",
        "# # baseModel.summary()\n",
        "# baseModel.layers[-1].output \n",
        "\n",
        "# base_output = baseModel.layers[-1].output \n",
        "# # new head for fine-tuning\n",
        "# x = Flatten(name='flatten')(base_output)\n",
        "# x = Dropout(0.5)(x)\n",
        "# x = Dense(4096, activation='relu', name='fc6')(x)\n",
        "# x = Dropout(0.5)(x)\n",
        "# x = Dense(1024, activation='relu', name='fc7')(x)\n",
        "# out = Dense(7, activation='softmax', name='classifier')(x)\n",
        "\n",
        "# model = Model(baseModel.input, out)\n"
      ],
      "execution_count": null,
      "outputs": []
    },
    {
      "cell_type": "code",
      "metadata": {
        "id": "lPPCWBDhauS7"
      },
      "source": [
        "def conv2d_custom_pad(input,pad,filters,kernel_size):\n",
        "    \n",
        "    x = tf.pad(input, ((0, 0), (int(pad),int(pad)), (int(pad),int(pad)),(0, 0)), \"CONSTANT\")\n",
        "    x = Conv2D(filters=filters,kernel_size=kernel_size)(x)\n",
        "    return x"
      ],
      "execution_count": 9,
      "outputs": []
    },
    {
      "cell_type": "code",
      "metadata": {
        "id": "zIpg1KCBB5HA"
      },
      "source": [
        "def VGG16(drop=0.2):\n",
        "       \n",
        "      input = tf.keras.Input(shape=(48,48,1))\n",
        "    \n",
        "      conv1a = conv2d_custom_pad(input,pad=1,filters=64,kernel_size=3)\n",
        "      bn1a = BatchNormalization()(conv1a)\n",
        "      x = relu(bn1a)\n",
        "      \n",
        "      conv1b = conv2d_custom_pad(x,pad=1,filters=64,kernel_size=3)\n",
        "      bn1b = BatchNormalization()(conv1b)\n",
        "      x = relu(bn1b)\n",
        "      x = MaxPool2D(2,strides=2)(x)\n",
        "      \n",
        "      conv2a = conv2d_custom_pad(x,pad=1,filters=128,kernel_size=3)\n",
        "      bn2a = BatchNormalization()(conv2a)\n",
        "      x = relu(bn2a)\n",
        "      \n",
        "      conv2b = conv2d_custom_pad(x,pad=1,filters=128,kernel_size=3)\n",
        "      bn2b = BatchNormalization()(conv2b)\n",
        "      x = relu(bn2b)\n",
        "      x = MaxPool2D(2,strides=2)(x)\n",
        "      \n",
        "      conv3a = conv2d_custom_pad(x,pad=1,filters=256,kernel_size=3)\n",
        "      bn3a = BatchNormalization()(conv3a)\n",
        "      x = relu(bn3a)\n",
        "      \n",
        "      conv3b = conv2d_custom_pad(x,pad=1,filters=256,kernel_size=3)\n",
        "      bn3b = BatchNormalization()(conv3b)\n",
        "      x = relu(bn3b)\n",
        "      x = MaxPool2D(2,strides=2)(x)\n",
        "      \n",
        "      conv4a = conv2d_custom_pad(x,pad=1,filters=512,kernel_size=3)\n",
        "      bn4a = BatchNormalization()(conv4a)\n",
        "      x = relu(bn4a)\n",
        "      \n",
        "      conv4b = conv2d_custom_pad(x,pad=1,filters=512,kernel_size=3)\n",
        "      bn4b = BatchNormalization()(conv4b)\n",
        "      x = relu(bn4b)\n",
        "      x = MaxPool2D(2,strides=2)(x)\n",
        "      \n",
        "      x = layers.Flatten()(x)\n",
        "      \n",
        "      x = Dense(4096)(x)\n",
        "      x = Dropout(drop)(x)\n",
        "      x = relu(x)\n",
        "      \n",
        "      x = Dense(4096)(x)\n",
        "      x = Dropout(drop)(x)\n",
        "      x = relu(x)\n",
        "      \n",
        "      x = Dense(7)(x)\n",
        "      output = layers.Activation('softmax', dtype='float32', name='predictions')(x)\n",
        "\n",
        "      model = tf.keras.Model(input,output)\n",
        "      return model   "
      ],
      "execution_count": 10,
      "outputs": []
    },
    {
      "cell_type": "code",
      "metadata": {
        "id": "ycfLGFgqCgVu",
        "colab": {
          "base_uri": "https://localhost:8080/"
        },
        "outputId": "470f2039-8b4d-47a9-cd34-b8a366f68a2c"
      },
      "source": [
        "model = VGG16()\n",
        "model.summary()"
      ],
      "execution_count": 11,
      "outputs": [
        {
          "output_type": "stream",
          "name": "stdout",
          "text": [
            "Model: \"model\"\n",
            "_________________________________________________________________\n",
            "Layer (type)                 Output Shape              Param #   \n",
            "=================================================================\n",
            "input_1 (InputLayer)         [(None, 48, 48, 1)]       0         \n",
            "_________________________________________________________________\n",
            "tf.compat.v1.pad (TFOpLambda (None, 50, 50, 1)         0         \n",
            "_________________________________________________________________\n",
            "conv2d (Conv2D)              (None, 48, 48, 64)        640       \n",
            "_________________________________________________________________\n",
            "batch_normalization (BatchNo (None, 48, 48, 64)        256       \n",
            "_________________________________________________________________\n",
            "tf.nn.relu (TFOpLambda)      (None, 48, 48, 64)        0         \n",
            "_________________________________________________________________\n",
            "tf.compat.v1.pad_1 (TFOpLamb (None, 50, 50, 64)        0         \n",
            "_________________________________________________________________\n",
            "conv2d_1 (Conv2D)            (None, 48, 48, 64)        36928     \n",
            "_________________________________________________________________\n",
            "batch_normalization_1 (Batch (None, 48, 48, 64)        256       \n",
            "_________________________________________________________________\n",
            "tf.nn.relu_1 (TFOpLambda)    (None, 48, 48, 64)        0         \n",
            "_________________________________________________________________\n",
            "max_pooling2d (MaxPooling2D) (None, 24, 24, 64)        0         \n",
            "_________________________________________________________________\n",
            "tf.compat.v1.pad_2 (TFOpLamb (None, 26, 26, 64)        0         \n",
            "_________________________________________________________________\n",
            "conv2d_2 (Conv2D)            (None, 24, 24, 128)       73856     \n",
            "_________________________________________________________________\n",
            "batch_normalization_2 (Batch (None, 24, 24, 128)       512       \n",
            "_________________________________________________________________\n",
            "tf.nn.relu_2 (TFOpLambda)    (None, 24, 24, 128)       0         \n",
            "_________________________________________________________________\n",
            "tf.compat.v1.pad_3 (TFOpLamb (None, 26, 26, 128)       0         \n",
            "_________________________________________________________________\n",
            "conv2d_3 (Conv2D)            (None, 24, 24, 128)       147584    \n",
            "_________________________________________________________________\n",
            "batch_normalization_3 (Batch (None, 24, 24, 128)       512       \n",
            "_________________________________________________________________\n",
            "tf.nn.relu_3 (TFOpLambda)    (None, 24, 24, 128)       0         \n",
            "_________________________________________________________________\n",
            "max_pooling2d_1 (MaxPooling2 (None, 12, 12, 128)       0         \n",
            "_________________________________________________________________\n",
            "tf.compat.v1.pad_4 (TFOpLamb (None, 14, 14, 128)       0         \n",
            "_________________________________________________________________\n",
            "conv2d_4 (Conv2D)            (None, 12, 12, 256)       295168    \n",
            "_________________________________________________________________\n",
            "batch_normalization_4 (Batch (None, 12, 12, 256)       1024      \n",
            "_________________________________________________________________\n",
            "tf.nn.relu_4 (TFOpLambda)    (None, 12, 12, 256)       0         \n",
            "_________________________________________________________________\n",
            "tf.compat.v1.pad_5 (TFOpLamb (None, 14, 14, 256)       0         \n",
            "_________________________________________________________________\n",
            "conv2d_5 (Conv2D)            (None, 12, 12, 256)       590080    \n",
            "_________________________________________________________________\n",
            "batch_normalization_5 (Batch (None, 12, 12, 256)       1024      \n",
            "_________________________________________________________________\n",
            "tf.nn.relu_5 (TFOpLambda)    (None, 12, 12, 256)       0         \n",
            "_________________________________________________________________\n",
            "max_pooling2d_2 (MaxPooling2 (None, 6, 6, 256)         0         \n",
            "_________________________________________________________________\n",
            "tf.compat.v1.pad_6 (TFOpLamb (None, 8, 8, 256)         0         \n",
            "_________________________________________________________________\n",
            "conv2d_6 (Conv2D)            (None, 6, 6, 512)         1180160   \n",
            "_________________________________________________________________\n",
            "batch_normalization_6 (Batch (None, 6, 6, 512)         2048      \n",
            "_________________________________________________________________\n",
            "tf.nn.relu_6 (TFOpLambda)    (None, 6, 6, 512)         0         \n",
            "_________________________________________________________________\n",
            "tf.compat.v1.pad_7 (TFOpLamb (None, 8, 8, 512)         0         \n",
            "_________________________________________________________________\n",
            "conv2d_7 (Conv2D)            (None, 6, 6, 512)         2359808   \n",
            "_________________________________________________________________\n",
            "batch_normalization_7 (Batch (None, 6, 6, 512)         2048      \n",
            "_________________________________________________________________\n",
            "tf.nn.relu_7 (TFOpLambda)    (None, 6, 6, 512)         0         \n",
            "_________________________________________________________________\n",
            "max_pooling2d_3 (MaxPooling2 (None, 3, 3, 512)         0         \n",
            "_________________________________________________________________\n",
            "flatten (Flatten)            (None, 4608)              0         \n",
            "_________________________________________________________________\n",
            "dense (Dense)                (None, 4096)              18878464  \n",
            "_________________________________________________________________\n",
            "dropout (Dropout)            (None, 4096)              0         \n",
            "_________________________________________________________________\n",
            "tf.nn.relu_8 (TFOpLambda)    (None, 4096)              0         \n",
            "_________________________________________________________________\n",
            "dense_1 (Dense)              (None, 4096)              16781312  \n",
            "_________________________________________________________________\n",
            "dropout_1 (Dropout)          (None, 4096)              0         \n",
            "_________________________________________________________________\n",
            "tf.nn.relu_9 (TFOpLambda)    (None, 4096)              0         \n",
            "_________________________________________________________________\n",
            "dense_2 (Dense)              (None, 7)                 28679     \n",
            "_________________________________________________________________\n",
            "predictions (Activation)     (None, 7)                 0         \n",
            "=================================================================\n",
            "Total params: 40,380,359\n",
            "Trainable params: 40,376,519\n",
            "Non-trainable params: 3,840\n",
            "_________________________________________________________________\n"
          ]
        }
      ]
    },
    {
      "cell_type": "code",
      "metadata": {
        "id": "fealCfFn9Zls"
      },
      "source": [
        "checkpoint_path = '/content/gdrive/My Drive/emotion_detection/checkpoints/cp.ckpt'\n",
        "\n",
        "model_save = ModelCheckpoint(filepath=checkpoint_path,save_weights_only=True,save_best_only=True,monitor='val_accuracy')"
      ],
      "execution_count": 12,
      "outputs": []
    },
    {
      "cell_type": "code",
      "metadata": {
        "id": "tBSlhMHBHzTG",
        "colab": {
          "base_uri": "https://localhost:8080/"
        },
        "outputId": "44188f96-d7b3-424d-fb23-ce3195ae748d"
      },
      "source": [
        "# early_stop = tf.keras.callbacks.EarlyStopping(monitor='val_loss', patience=10)\n",
        "\n",
        "sgd = SGD(lr=0.01, momentum=0.9, decay=0.0001, nesterov=True)\n",
        "rlrop = ReduceLROnPlateau(monitor='val_accuracy',mode='max',factor=0.75, patience=5, min_lr=0.00001, verbose=1)\n",
        "\n",
        "model.compile(loss=CategoricalCrossentropy(), optimizer=sgd,metrics=[\"accuracy\"])\n",
        "\n",
        "with tf.device('/device:GPU:0'):\n",
        "      H = model.fit(\n",
        "        x=trainGen,\n",
        "        steps_per_epoch=no_train_files// 64,\n",
        "        validation_data=valGen,\n",
        "        validation_steps=no_val_files// 64,\n",
        "        epochs=300,\n",
        "        callbacks = [model_save,rlrop],\n",
        "        use_multiprocessing=True)\n"
      ],
      "execution_count": null,
      "outputs": [
        {
          "output_type": "stream",
          "name": "stdout",
          "text": [
            "Epoch 1/300\n",
            "448/448 [==============================] - 92s 137ms/step - loss: 1.8910 - accuracy: 0.2444 - val_loss: 1.8269 - val_accuracy: 0.2469\n",
            "Epoch 2/300\n",
            "448/448 [==============================] - 60s 135ms/step - loss: 1.7797 - accuracy: 0.2599 - val_loss: 1.8089 - val_accuracy: 0.2536\n",
            "Epoch 3/300\n",
            "448/448 [==============================] - 61s 135ms/step - loss: 1.7180 - accuracy: 0.2932 - val_loss: 1.7395 - val_accuracy: 0.2699\n",
            "Epoch 4/300\n",
            "448/448 [==============================] - 61s 135ms/step - loss: 1.5695 - accuracy: 0.3769 - val_loss: 1.5563 - val_accuracy: 0.4012\n",
            "Epoch 5/300\n",
            "448/448 [==============================] - 60s 134ms/step - loss: 1.4374 - accuracy: 0.4385 - val_loss: 1.3358 - val_accuracy: 0.4835\n",
            "Epoch 6/300\n",
            "448/448 [==============================] - 60s 134ms/step - loss: 1.3425 - accuracy: 0.4858 - val_loss: 1.2592 - val_accuracy: 0.5135\n",
            "Epoch 7/300\n",
            "448/448 [==============================] - 60s 133ms/step - loss: 1.2683 - accuracy: 0.5144 - val_loss: 1.3916 - val_accuracy: 0.4643\n",
            "Epoch 8/300\n",
            "448/448 [==============================] - 60s 135ms/step - loss: 1.2103 - accuracy: 0.5402 - val_loss: 1.3276 - val_accuracy: 0.4937\n",
            "Epoch 9/300\n",
            "448/448 [==============================] - 61s 135ms/step - loss: 1.1742 - accuracy: 0.5514 - val_loss: 1.3641 - val_accuracy: 0.5022\n",
            "Epoch 10/300\n",
            "448/448 [==============================] - 60s 134ms/step - loss: 1.1421 - accuracy: 0.5631 - val_loss: 1.2367 - val_accuracy: 0.5407\n",
            "Epoch 11/300\n",
            "448/448 [==============================] - 60s 134ms/step - loss: 1.1116 - accuracy: 0.5791 - val_loss: 1.1745 - val_accuracy: 0.5515\n",
            "Epoch 12/300\n",
            "448/448 [==============================] - 60s 134ms/step - loss: 1.0806 - accuracy: 0.5881 - val_loss: 1.2074 - val_accuracy: 0.5299\n",
            "Epoch 13/300\n",
            "448/448 [==============================] - 60s 134ms/step - loss: 1.0612 - accuracy: 0.5978 - val_loss: 1.0758 - val_accuracy: 0.5911\n",
            "Epoch 14/300\n",
            "448/448 [==============================] - 61s 135ms/step - loss: 1.0473 - accuracy: 0.6050 - val_loss: 1.0362 - val_accuracy: 0.6074\n",
            "Epoch 15/300\n",
            "448/448 [==============================] - 61s 135ms/step - loss: 1.0287 - accuracy: 0.6121 - val_loss: 1.0792 - val_accuracy: 0.5964\n",
            "Epoch 16/300\n",
            "448/448 [==============================] - 60s 134ms/step - loss: 1.0131 - accuracy: 0.6156 - val_loss: 1.0444 - val_accuracy: 0.6052\n",
            "Epoch 17/300\n",
            "448/448 [==============================] - 61s 135ms/step - loss: 0.9947 - accuracy: 0.6244 - val_loss: 1.0300 - val_accuracy: 0.6080\n",
            "Epoch 18/300\n",
            "448/448 [==============================] - 60s 134ms/step - loss: 0.9814 - accuracy: 0.6301 - val_loss: 1.0290 - val_accuracy: 0.6104\n",
            "Epoch 19/300\n",
            "448/448 [==============================] - 60s 134ms/step - loss: 0.9682 - accuracy: 0.6334 - val_loss: 1.0190 - val_accuracy: 0.6217\n",
            "Epoch 20/300\n",
            "448/448 [==============================] - 61s 135ms/step - loss: 0.9535 - accuracy: 0.6417 - val_loss: 1.0390 - val_accuracy: 0.6164\n",
            "Epoch 21/300\n",
            "448/448 [==============================] - 60s 134ms/step - loss: 0.9423 - accuracy: 0.6435 - val_loss: 0.9785 - val_accuracy: 0.6316\n",
            "Epoch 22/300\n",
            "448/448 [==============================] - 60s 134ms/step - loss: 0.9370 - accuracy: 0.6479 - val_loss: 0.9812 - val_accuracy: 0.6343\n",
            "Epoch 23/300\n",
            "448/448 [==============================] - 60s 134ms/step - loss: 0.9263 - accuracy: 0.6514 - val_loss: 1.0665 - val_accuracy: 0.6110\n",
            "Epoch 24/300\n",
            "448/448 [==============================] - 60s 135ms/step - loss: 0.9111 - accuracy: 0.6551 - val_loss: 0.9446 - val_accuracy: 0.6493\n",
            "Epoch 25/300\n",
            "448/448 [==============================] - 60s 135ms/step - loss: 0.8988 - accuracy: 0.6633 - val_loss: 0.9807 - val_accuracy: 0.6307\n",
            "Epoch 26/300\n",
            "448/448 [==============================] - 60s 134ms/step - loss: 0.8951 - accuracy: 0.6618 - val_loss: 0.9748 - val_accuracy: 0.6383\n",
            "Epoch 27/300\n",
            "448/448 [==============================] - 60s 134ms/step - loss: 0.8813 - accuracy: 0.6697 - val_loss: 0.9818 - val_accuracy: 0.6417\n",
            "Epoch 28/300\n",
            "448/448 [==============================] - 60s 134ms/step - loss: 0.8750 - accuracy: 0.6749 - val_loss: 1.0703 - val_accuracy: 0.6046\n",
            "Epoch 29/300\n",
            "448/448 [==============================] - 60s 134ms/step - loss: 0.8677 - accuracy: 0.6745 - val_loss: 0.9581 - val_accuracy: 0.6380\n",
            "\n",
            "Epoch 00029: ReduceLROnPlateau reducing learning rate to 0.007499999832361937.\n",
            "Epoch 30/300\n",
            "448/448 [==============================] - 60s 134ms/step - loss: 0.8378 - accuracy: 0.6853 - val_loss: 1.0161 - val_accuracy: 0.6292\n",
            "Epoch 31/300\n",
            "448/448 [==============================] - 60s 134ms/step - loss: 0.8251 - accuracy: 0.6884 - val_loss: 0.9583 - val_accuracy: 0.6479\n",
            "Epoch 32/300\n",
            "448/448 [==============================] - 61s 135ms/step - loss: 0.8199 - accuracy: 0.6918 - val_loss: 0.9816 - val_accuracy: 0.6360\n",
            "Epoch 33/300\n",
            "448/448 [==============================] - 60s 135ms/step - loss: 0.8082 - accuracy: 0.6958 - val_loss: 1.0635 - val_accuracy: 0.6166\n",
            "Epoch 34/300\n",
            "448/448 [==============================] - 60s 135ms/step - loss: 0.8061 - accuracy: 0.6967 - val_loss: 0.9540 - val_accuracy: 0.6466\n",
            "\n",
            "Epoch 00034: ReduceLROnPlateau reducing learning rate to 0.005624999874271452.\n",
            "Epoch 35/300\n",
            "448/448 [==============================] - 61s 136ms/step - loss: 0.7728 - accuracy: 0.7117 - val_loss: 0.9237 - val_accuracy: 0.6636\n",
            "Epoch 36/300\n",
            "448/448 [==============================] - 60s 134ms/step - loss: 0.7711 - accuracy: 0.7108 - val_loss: 0.9424 - val_accuracy: 0.6462\n",
            "Epoch 37/300\n",
            "448/448 [==============================] - 60s 134ms/step - loss: 0.7621 - accuracy: 0.7171 - val_loss: 0.9805 - val_accuracy: 0.6455\n",
            "Epoch 38/300\n",
            "448/448 [==============================] - 60s 134ms/step - loss: 0.7588 - accuracy: 0.7173 - val_loss: 0.9219 - val_accuracy: 0.6646\n",
            "Epoch 39/300\n",
            "448/448 [==============================] - 61s 135ms/step - loss: 0.7439 - accuracy: 0.7199 - val_loss: 0.9403 - val_accuracy: 0.6565\n",
            "Epoch 40/300\n",
            "448/448 [==============================] - 60s 135ms/step - loss: 0.7401 - accuracy: 0.7232 - val_loss: 0.9946 - val_accuracy: 0.6398\n",
            "Epoch 41/300\n",
            "448/448 [==============================] - 60s 134ms/step - loss: 0.7332 - accuracy: 0.7264 - val_loss: 0.9385 - val_accuracy: 0.6676\n",
            "Epoch 42/300\n",
            "448/448 [==============================] - 60s 135ms/step - loss: 0.7337 - accuracy: 0.7255 - val_loss: 0.9869 - val_accuracy: 0.6466\n",
            "Epoch 43/300\n",
            "448/448 [==============================] - 60s 134ms/step - loss: 0.7287 - accuracy: 0.7272 - val_loss: 0.9831 - val_accuracy: 0.6476\n",
            "Epoch 44/300\n",
            "448/448 [==============================] - 60s 134ms/step - loss: 0.7199 - accuracy: 0.7312 - val_loss: 0.9352 - val_accuracy: 0.6611\n",
            "Epoch 45/300\n",
            "448/448 [==============================] - 60s 134ms/step - loss: 0.7140 - accuracy: 0.7324 - val_loss: 1.1857 - val_accuracy: 0.6053\n",
            "Epoch 46/300\n",
            "448/448 [==============================] - 60s 134ms/step - loss: 0.7134 - accuracy: 0.7350 - val_loss: 1.0495 - val_accuracy: 0.6335\n",
            "\n",
            "Epoch 00046: ReduceLROnPlateau reducing learning rate to 0.004218749818392098.\n",
            "Epoch 47/300\n",
            "448/448 [==============================] - 61s 135ms/step - loss: 0.6867 - accuracy: 0.7452 - val_loss: 0.9370 - val_accuracy: 0.6677\n",
            "Epoch 48/300\n",
            "448/448 [==============================] - 60s 135ms/step - loss: 0.6814 - accuracy: 0.7466 - val_loss: 1.0045 - val_accuracy: 0.6561\n",
            "Epoch 49/300\n",
            "448/448 [==============================] - 60s 135ms/step - loss: 0.6756 - accuracy: 0.7479 - val_loss: 0.9398 - val_accuracy: 0.6692\n",
            "Epoch 50/300\n",
            "448/448 [==============================] - 60s 135ms/step - loss: 0.6747 - accuracy: 0.7495 - val_loss: 0.9390 - val_accuracy: 0.6727\n",
            "Epoch 51/300\n",
            "448/448 [==============================] - 61s 135ms/step - loss: 0.6611 - accuracy: 0.7525 - val_loss: 0.9377 - val_accuracy: 0.6765\n",
            "Epoch 52/300\n",
            "448/448 [==============================] - 60s 134ms/step - loss: 0.6560 - accuracy: 0.7544 - val_loss: 0.9293 - val_accuracy: 0.6814\n",
            "Epoch 53/300\n",
            "448/448 [==============================] - 60s 134ms/step - loss: 0.6538 - accuracy: 0.7541 - val_loss: 1.0066 - val_accuracy: 0.6634\n",
            "Epoch 54/300\n",
            "448/448 [==============================] - 60s 134ms/step - loss: 0.6529 - accuracy: 0.7557 - val_loss: 1.0015 - val_accuracy: 0.6569\n",
            "Epoch 55/300\n",
            "448/448 [==============================] - 61s 135ms/step - loss: 0.6484 - accuracy: 0.7601 - val_loss: 0.9363 - val_accuracy: 0.6758\n",
            "Epoch 56/300\n",
            "448/448 [==============================] - 60s 134ms/step - loss: 0.6411 - accuracy: 0.7612 - val_loss: 1.0057 - val_accuracy: 0.6459\n",
            "Epoch 57/300\n",
            "448/448 [==============================] - 60s 134ms/step - loss: 0.6345 - accuracy: 0.7623 - val_loss: 0.9764 - val_accuracy: 0.6724\n",
            "\n",
            "Epoch 00057: ReduceLROnPlateau reducing learning rate to 0.003164062276482582.\n",
            "Epoch 58/300\n",
            "448/448 [==============================] - 60s 133ms/step - loss: 0.6179 - accuracy: 0.7704 - val_loss: 0.9969 - val_accuracy: 0.6625\n",
            "Epoch 59/300\n",
            "448/448 [==============================] - 60s 134ms/step - loss: 0.6109 - accuracy: 0.7727 - val_loss: 0.9829 - val_accuracy: 0.6731\n",
            "Epoch 60/300\n",
            "448/448 [==============================] - 60s 134ms/step - loss: 0.6144 - accuracy: 0.7727 - val_loss: 0.9830 - val_accuracy: 0.6628\n",
            "Epoch 61/300\n",
            "448/448 [==============================] - 60s 134ms/step - loss: 0.6084 - accuracy: 0.7731 - val_loss: 0.9479 - val_accuracy: 0.6744\n",
            "Epoch 62/300\n",
            "448/448 [==============================] - 60s 134ms/step - loss: 0.6003 - accuracy: 0.7741 - val_loss: 1.0036 - val_accuracy: 0.6650\n",
            "\n",
            "Epoch 00062: ReduceLROnPlateau reducing learning rate to 0.0023730467073619366.\n",
            "Epoch 63/300\n",
            "448/448 [==============================] - 60s 134ms/step - loss: 0.5881 - accuracy: 0.7794 - val_loss: 1.0052 - val_accuracy: 0.6653\n",
            "Epoch 64/300\n",
            "448/448 [==============================] - 60s 135ms/step - loss: 0.5853 - accuracy: 0.7834 - val_loss: 0.9683 - val_accuracy: 0.6742\n",
            "Epoch 65/300\n",
            "448/448 [==============================] - 60s 134ms/step - loss: 0.5767 - accuracy: 0.7873 - val_loss: 0.9874 - val_accuracy: 0.6713\n",
            "Epoch 66/300\n",
            "448/448 [==============================] - 60s 134ms/step - loss: 0.5747 - accuracy: 0.7856 - val_loss: 0.9537 - val_accuracy: 0.6840\n",
            "Epoch 67/300\n",
            "448/448 [==============================] - 60s 134ms/step - loss: 0.5708 - accuracy: 0.7862 - val_loss: 1.0879 - val_accuracy: 0.6558\n",
            "Epoch 68/300\n",
            "448/448 [==============================] - 61s 135ms/step - loss: 0.5663 - accuracy: 0.7891 - val_loss: 0.9928 - val_accuracy: 0.6699\n",
            "Epoch 69/300\n",
            "448/448 [==============================] - 60s 135ms/step - loss: 0.5681 - accuracy: 0.7894 - val_loss: 0.9896 - val_accuracy: 0.6801\n",
            "Epoch 70/300\n",
            "448/448 [==============================] - 60s 135ms/step - loss: 0.5576 - accuracy: 0.7918 - val_loss: 1.0241 - val_accuracy: 0.6738\n",
            "Epoch 71/300\n",
            "448/448 [==============================] - 61s 135ms/step - loss: 0.5566 - accuracy: 0.7931 - val_loss: 1.0419 - val_accuracy: 0.6703\n",
            "\n",
            "Epoch 00071: ReduceLROnPlateau reducing learning rate to 0.0017797850305214524.\n",
            "Epoch 72/300\n",
            "448/448 [==============================] - 60s 134ms/step - loss: 0.5483 - accuracy: 0.7959 - val_loss: 0.9829 - val_accuracy: 0.6729\n",
            "Epoch 73/300\n",
            "448/448 [==============================] - 60s 134ms/step - loss: 0.5441 - accuracy: 0.7974 - val_loss: 1.0173 - val_accuracy: 0.6699\n",
            "Epoch 74/300\n",
            "448/448 [==============================] - 60s 133ms/step - loss: 0.5419 - accuracy: 0.7996 - val_loss: 1.0261 - val_accuracy: 0.6706\n",
            "Epoch 75/300\n",
            "448/448 [==============================] - 60s 135ms/step - loss: 0.5355 - accuracy: 0.8014 - val_loss: 1.0543 - val_accuracy: 0.6738\n",
            "Epoch 76/300\n",
            "448/448 [==============================] - 61s 135ms/step - loss: 0.5300 - accuracy: 0.8032 - val_loss: 1.0265 - val_accuracy: 0.6720\n",
            "\n",
            "Epoch 00076: ReduceLROnPlateau reducing learning rate to 0.0013348387728910893.\n",
            "Epoch 77/300\n",
            "448/448 [==============================] - 60s 134ms/step - loss: 0.5233 - accuracy: 0.8078 - val_loss: 1.0252 - val_accuracy: 0.6703\n",
            "Epoch 78/300\n",
            "448/448 [==============================] - 60s 135ms/step - loss: 0.5262 - accuracy: 0.8062 - val_loss: 1.0159 - val_accuracy: 0.6698\n",
            "Epoch 79/300\n",
            "448/448 [==============================] - 61s 136ms/step - loss: 0.5182 - accuracy: 0.8068 - val_loss: 1.0637 - val_accuracy: 0.6716\n",
            "Epoch 80/300\n",
            "448/448 [==============================] - 61s 135ms/step - loss: 0.5108 - accuracy: 0.8114 - val_loss: 1.0565 - val_accuracy: 0.6662\n",
            "Epoch 81/300\n",
            "448/448 [==============================] - 61s 135ms/step - loss: 0.5112 - accuracy: 0.8106 - val_loss: 1.0534 - val_accuracy: 0.6754\n",
            "\n",
            "Epoch 00081: ReduceLROnPlateau reducing learning rate to 0.0010011291014961898.\n",
            "Epoch 82/300\n",
            "448/448 [==============================] - 61s 135ms/step - loss: 0.5042 - accuracy: 0.8119 - val_loss: 1.0148 - val_accuracy: 0.6769\n",
            "Epoch 83/300\n",
            "448/448 [==============================] - 61s 136ms/step - loss: 0.5133 - accuracy: 0.8115 - val_loss: 1.0641 - val_accuracy: 0.6687\n",
            "Epoch 84/300\n",
            "448/448 [==============================] - 61s 136ms/step - loss: 0.5055 - accuracy: 0.8142 - val_loss: 1.0487 - val_accuracy: 0.6742\n",
            "Epoch 85/300\n",
            "448/448 [==============================] - 61s 135ms/step - loss: 0.5015 - accuracy: 0.8154 - val_loss: 1.0502 - val_accuracy: 0.6729\n",
            "Epoch 86/300\n",
            "448/448 [==============================] - 61s 136ms/step - loss: 0.4998 - accuracy: 0.8152 - val_loss: 1.0254 - val_accuracy: 0.6789\n",
            "\n",
            "Epoch 00086: ReduceLROnPlateau reducing learning rate to 0.0007508468697778881.\n",
            "Epoch 87/300\n",
            "448/448 [==============================] - 61s 136ms/step - loss: 0.4967 - accuracy: 0.8160 - val_loss: 1.0730 - val_accuracy: 0.6715\n",
            "Epoch 88/300\n",
            "448/448 [==============================] - 61s 135ms/step - loss: 0.4898 - accuracy: 0.8179 - val_loss: 1.0573 - val_accuracy: 0.6716\n",
            "Epoch 89/300\n",
            "448/448 [==============================] - 62s 137ms/step - loss: 0.4929 - accuracy: 0.8176 - val_loss: 1.0395 - val_accuracy: 0.6789\n",
            "Epoch 90/300\n",
            "448/448 [==============================] - 61s 136ms/step - loss: 0.4938 - accuracy: 0.8196 - val_loss: 1.0561 - val_accuracy: 0.6735\n",
            "Epoch 91/300\n",
            "448/448 [==============================] - 61s 136ms/step - loss: 0.4894 - accuracy: 0.8184 - val_loss: 1.0461 - val_accuracy: 0.6755\n",
            "\n",
            "Epoch 00091: ReduceLROnPlateau reducing learning rate to 0.000563135152333416.\n",
            "Epoch 92/300\n",
            "448/448 [==============================] - 61s 136ms/step - loss: 0.4827 - accuracy: 0.8231 - val_loss: 1.0624 - val_accuracy: 0.6761\n",
            "Epoch 93/300\n",
            "448/448 [==============================] - 61s 136ms/step - loss: 0.4858 - accuracy: 0.8197 - val_loss: 1.0504 - val_accuracy: 0.6776\n",
            "Epoch 94/300\n",
            "448/448 [==============================] - 61s 136ms/step - loss: 0.4799 - accuracy: 0.8219 - val_loss: 1.0862 - val_accuracy: 0.6706\n",
            "Epoch 95/300\n",
            "448/448 [==============================] - 61s 136ms/step - loss: 0.4786 - accuracy: 0.8225 - val_loss: 1.0563 - val_accuracy: 0.6742\n",
            "Epoch 96/300\n",
            "448/448 [==============================] - 61s 135ms/step - loss: 0.4800 - accuracy: 0.8248 - val_loss: 1.0586 - val_accuracy: 0.6783\n",
            "\n",
            "Epoch 00096: ReduceLROnPlateau reducing learning rate to 0.0004223513533361256.\n",
            "Epoch 97/300\n",
            "448/448 [==============================] - 60s 135ms/step - loss: 0.4758 - accuracy: 0.8250 - val_loss: 1.0503 - val_accuracy: 0.6773\n",
            "Epoch 98/300\n",
            "448/448 [==============================] - 61s 136ms/step - loss: 0.4758 - accuracy: 0.8240 - val_loss: 1.0564 - val_accuracy: 0.6815\n",
            "Epoch 99/300\n",
            "448/448 [==============================] - 61s 136ms/step - loss: 0.4750 - accuracy: 0.8254 - val_loss: 1.0611 - val_accuracy: 0.6783\n",
            "Epoch 100/300\n",
            "448/448 [==============================] - 61s 135ms/step - loss: 0.4765 - accuracy: 0.8240 - val_loss: 1.0434 - val_accuracy: 0.6830\n",
            "Epoch 101/300\n",
            "448/448 [==============================] - 61s 136ms/step - loss: 0.4718 - accuracy: 0.8256 - val_loss: 1.0638 - val_accuracy: 0.6775\n",
            "\n",
            "Epoch 00101: ReduceLROnPlateau reducing learning rate to 0.0003167635150020942.\n",
            "Epoch 102/300\n",
            "448/448 [==============================] - 61s 135ms/step - loss: 0.4744 - accuracy: 0.8260 - val_loss: 1.0470 - val_accuracy: 0.6766\n",
            "Epoch 103/300\n",
            "448/448 [==============================] - 61s 135ms/step - loss: 0.4740 - accuracy: 0.8252 - val_loss: 1.0527 - val_accuracy: 0.6794\n",
            "Epoch 104/300\n",
            "448/448 [==============================] - 61s 135ms/step - loss: 0.4748 - accuracy: 0.8263 - val_loss: 1.0481 - val_accuracy: 0.6815\n",
            "Epoch 105/300\n",
            "448/448 [==============================] - 61s 135ms/step - loss: 0.4722 - accuracy: 0.8258 - val_loss: 1.0474 - val_accuracy: 0.6790\n",
            "Epoch 106/300\n",
            "448/448 [==============================] - 61s 135ms/step - loss: 0.4679 - accuracy: 0.8260 - val_loss: 1.0628 - val_accuracy: 0.6808\n",
            "\n",
            "Epoch 00106: ReduceLROnPlateau reducing learning rate to 0.00023757264716550708.\n",
            "Epoch 107/300\n",
            "448/448 [==============================] - 61s 135ms/step - loss: 0.4682 - accuracy: 0.8268 - val_loss: 1.0544 - val_accuracy: 0.6814\n",
            "Epoch 108/300\n",
            "448/448 [==============================] - 61s 135ms/step - loss: 0.4703 - accuracy: 0.8264 - val_loss: 1.0637 - val_accuracy: 0.6795\n",
            "Epoch 109/300\n",
            "448/448 [==============================] - 60s 134ms/step - loss: 0.4674 - accuracy: 0.8278 - val_loss: 1.0584 - val_accuracy: 0.6801\n",
            "Epoch 110/300\n",
            "448/448 [==============================] - 61s 135ms/step - loss: 0.4605 - accuracy: 0.8293 - val_loss: 1.0700 - val_accuracy: 0.6775\n",
            "Epoch 111/300\n",
            "448/448 [==============================] - 60s 135ms/step - loss: 0.4651 - accuracy: 0.8265 - val_loss: 1.0584 - val_accuracy: 0.6839\n",
            "\n",
            "Epoch 00111: ReduceLROnPlateau reducing learning rate to 0.0001781794853741303.\n",
            "Epoch 112/300\n",
            "448/448 [==============================] - 60s 134ms/step - loss: 0.4634 - accuracy: 0.8290 - val_loss: 1.0647 - val_accuracy: 0.6790\n",
            "Epoch 113/300\n",
            "448/448 [==============================] - 60s 134ms/step - loss: 0.4618 - accuracy: 0.8310 - val_loss: 1.0695 - val_accuracy: 0.6794\n",
            "Epoch 114/300\n",
            "448/448 [==============================] - 60s 134ms/step - loss: 0.4649 - accuracy: 0.8258 - val_loss: 1.0639 - val_accuracy: 0.6819\n",
            "Epoch 115/300\n",
            "448/448 [==============================] - 60s 133ms/step - loss: 0.4659 - accuracy: 0.8254 - val_loss: 1.0604 - val_accuracy: 0.6801\n",
            "Epoch 116/300\n",
            "448/448 [==============================] - 61s 135ms/step - loss: 0.4668 - accuracy: 0.8290 - val_loss: 1.0604 - val_accuracy: 0.6786\n",
            "\n",
            "Epoch 00116: ReduceLROnPlateau reducing learning rate to 0.00013363461403059773.\n",
            "Epoch 117/300\n",
            "448/448 [==============================] - 60s 134ms/step - loss: 0.4619 - accuracy: 0.8318 - val_loss: 1.0663 - val_accuracy: 0.6795\n",
            "Epoch 118/300\n",
            "448/448 [==============================] - 60s 133ms/step - loss: 0.4731 - accuracy: 0.8259 - val_loss: 1.0595 - val_accuracy: 0.6772\n",
            "Epoch 119/300\n",
            "448/448 [==============================] - 61s 135ms/step - loss: 0.4606 - accuracy: 0.8308 - val_loss: 1.0660 - val_accuracy: 0.6787\n",
            "Epoch 120/300\n",
            "448/448 [==============================] - 60s 134ms/step - loss: 0.4609 - accuracy: 0.8304 - val_loss: 1.0652 - val_accuracy: 0.6775\n",
            "Epoch 121/300\n",
            "448/448 [==============================] - 61s 135ms/step - loss: 0.4643 - accuracy: 0.8299 - val_loss: 1.0725 - val_accuracy: 0.6787\n",
            "\n",
            "Epoch 00121: ReduceLROnPlateau reducing learning rate to 0.0001002259632514324.\n",
            "Epoch 122/300\n",
            "448/448 [==============================] - 60s 134ms/step - loss: 0.4582 - accuracy: 0.8325 - val_loss: 1.0643 - val_accuracy: 0.6780\n",
            "Epoch 123/300\n",
            "448/448 [==============================] - 60s 134ms/step - loss: 0.4664 - accuracy: 0.8272 - val_loss: 1.0635 - val_accuracy: 0.6823\n",
            "Epoch 124/300\n",
            "448/448 [==============================] - 60s 134ms/step - loss: 0.4606 - accuracy: 0.8282 - val_loss: 1.0616 - val_accuracy: 0.6790\n",
            "Epoch 125/300\n",
            "448/448 [==============================] - 61s 135ms/step - loss: 0.4572 - accuracy: 0.8315 - val_loss: 1.0659 - val_accuracy: 0.6800\n",
            "Epoch 126/300\n",
            "448/448 [==============================] - 60s 134ms/step - loss: 0.4636 - accuracy: 0.8281 - val_loss: 1.0690 - val_accuracy: 0.6782\n",
            "\n",
            "Epoch 00126: ReduceLROnPlateau reducing learning rate to 7.516947516705841e-05.\n",
            "Epoch 127/300\n",
            "448/448 [==============================] - 61s 135ms/step - loss: 0.4618 - accuracy: 0.8314 - val_loss: 1.0648 - val_accuracy: 0.6775\n",
            "Epoch 128/300\n",
            "448/448 [==============================] - 61s 135ms/step - loss: 0.4614 - accuracy: 0.8302 - val_loss: 1.0679 - val_accuracy: 0.6780\n",
            "Epoch 129/300\n",
            "448/448 [==============================] - 61s 135ms/step - loss: 0.4593 - accuracy: 0.8320 - val_loss: 1.0693 - val_accuracy: 0.6769\n",
            "Epoch 130/300\n",
            "448/448 [==============================] - 60s 135ms/step - loss: 0.4613 - accuracy: 0.8294 - val_loss: 1.0657 - val_accuracy: 0.6800\n",
            "Epoch 131/300\n",
            "448/448 [==============================] - 61s 135ms/step - loss: 0.4614 - accuracy: 0.8311 - val_loss: 1.0700 - val_accuracy: 0.6794\n",
            "\n",
            "Epoch 00131: ReduceLROnPlateau reducing learning rate to 5.6377106375293806e-05.\n",
            "Epoch 132/300\n",
            "448/448 [==============================] - 60s 134ms/step - loss: 0.4607 - accuracy: 0.8293 - val_loss: 1.0678 - val_accuracy: 0.6776\n",
            "Epoch 133/300\n",
            "448/448 [==============================] - 60s 134ms/step - loss: 0.4597 - accuracy: 0.8288 - val_loss: 1.0658 - val_accuracy: 0.6779\n",
            "Epoch 134/300\n",
            "448/448 [==============================] - 60s 134ms/step - loss: 0.4655 - accuracy: 0.8280 - val_loss: 1.0678 - val_accuracy: 0.6773\n",
            "Epoch 135/300\n",
            "448/448 [==============================] - 60s 134ms/step - loss: 0.4621 - accuracy: 0.8276 - val_loss: 1.0688 - val_accuracy: 0.6780\n",
            "Epoch 136/300\n",
            "448/448 [==============================] - 60s 134ms/step - loss: 0.4581 - accuracy: 0.8287 - val_loss: 1.0667 - val_accuracy: 0.6773\n",
            "\n",
            "Epoch 00136: ReduceLROnPlateau reducing learning rate to 4.2282829781470355e-05.\n",
            "Epoch 137/300\n",
            "448/448 [==============================] - 60s 134ms/step - loss: 0.4579 - accuracy: 0.8303 - val_loss: 1.0667 - val_accuracy: 0.6776\n",
            "Epoch 138/300\n",
            "448/448 [==============================] - 60s 134ms/step - loss: 0.4587 - accuracy: 0.8298 - val_loss: 1.0690 - val_accuracy: 0.6779\n",
            "Epoch 139/300\n",
            "448/448 [==============================] - 60s 134ms/step - loss: 0.4606 - accuracy: 0.8308 - val_loss: 1.0659 - val_accuracy: 0.6775\n",
            "Epoch 140/300\n",
            "448/448 [==============================] - 61s 135ms/step - loss: 0.4602 - accuracy: 0.8305 - val_loss: 1.0675 - val_accuracy: 0.6779\n",
            "Epoch 141/300\n",
            "448/448 [==============================] - 61s 135ms/step - loss: 0.4585 - accuracy: 0.8300 - val_loss: 1.0671 - val_accuracy: 0.6775\n",
            "\n",
            "Epoch 00141: ReduceLROnPlateau reducing learning rate to 3.171212301822379e-05.\n",
            "Epoch 142/300\n",
            "448/448 [==============================] - 61s 135ms/step - loss: 0.4599 - accuracy: 0.8288 - val_loss: 1.0683 - val_accuracy: 0.6780\n",
            "Epoch 143/300\n",
            "448/448 [==============================] - 60s 135ms/step - loss: 0.4603 - accuracy: 0.8277 - val_loss: 1.0675 - val_accuracy: 0.6779\n",
            "Epoch 144/300\n",
            "448/448 [==============================] - 61s 135ms/step - loss: 0.4603 - accuracy: 0.8291 - val_loss: 1.0663 - val_accuracy: 0.6776\n",
            "Epoch 145/300\n",
            "448/448 [==============================] - 60s 135ms/step - loss: 0.4603 - accuracy: 0.8308 - val_loss: 1.0674 - val_accuracy: 0.6790\n",
            "Epoch 146/300\n",
            "448/448 [==============================] - 60s 134ms/step - loss: 0.4584 - accuracy: 0.8279 - val_loss: 1.0672 - val_accuracy: 0.6775\n",
            "\n",
            "Epoch 00146: ReduceLROnPlateau reducing learning rate to 2.3784092263667844e-05.\n",
            "Epoch 147/300\n",
            "448/448 [==============================] - 60s 134ms/step - loss: 0.4619 - accuracy: 0.8303 - val_loss: 1.0656 - val_accuracy: 0.6770\n",
            "Epoch 148/300\n",
            "448/448 [==============================] - 60s 134ms/step - loss: 0.4591 - accuracy: 0.8308 - val_loss: 1.0656 - val_accuracy: 0.6780\n",
            "Epoch 149/300\n",
            "448/448 [==============================] - 60s 134ms/step - loss: 0.4565 - accuracy: 0.8308 - val_loss: 1.0678 - val_accuracy: 0.6782\n",
            "Epoch 150/300\n",
            "448/448 [==============================] - 60s 133ms/step - loss: 0.4626 - accuracy: 0.8288 - val_loss: 1.0673 - val_accuracy: 0.6776\n",
            "Epoch 151/300\n",
            "448/448 [==============================] - 61s 135ms/step - loss: 0.4582 - accuracy: 0.8295 - val_loss: 1.0664 - val_accuracy: 0.6770\n",
            "\n",
            "Epoch 00151: ReduceLROnPlateau reducing learning rate to 1.7838069197750883e-05.\n",
            "Epoch 152/300\n",
            "448/448 [==============================] - 60s 134ms/step - loss: 0.4603 - accuracy: 0.8305 - val_loss: 1.0659 - val_accuracy: 0.6779\n",
            "Epoch 153/300\n",
            "448/448 [==============================] - 60s 134ms/step - loss: 0.4556 - accuracy: 0.8305 - val_loss: 1.0656 - val_accuracy: 0.6779\n",
            "Epoch 154/300\n",
            "448/448 [==============================] - 60s 134ms/step - loss: 0.4533 - accuracy: 0.8329 - val_loss: 1.0676 - val_accuracy: 0.6784\n",
            "Epoch 155/300\n",
            "448/448 [==============================] - 61s 135ms/step - loss: 0.4601 - accuracy: 0.8315 - val_loss: 1.0673 - val_accuracy: 0.6776\n",
            "Epoch 156/300\n",
            "104/448 [=====>........................] - ETA: 43s - loss: 0.4567 - accuracy: 0.8320"
          ]
        }
      ]
    },
    {
      "cell_type": "code",
      "metadata": {
        "id": "SM2mnyj7oWfN"
      },
      "source": [
        ""
      ],
      "execution_count": null,
      "outputs": []
    },
    {
      "cell_type": "code",
      "metadata": {
        "id": "VlIHY8WzL05D"
      },
      "source": [
        "model.save('/content/gdrive/My Drive/emotion_detection/checkpoints/' + 'VGG16-global' + '.h5')"
      ],
      "execution_count": null,
      "outputs": []
    },
    {
      "cell_type": "code",
      "metadata": {
        "colab": {
          "base_uri": "https://localhost:8080/"
        },
        "id": "w8A3wwkR0qHG",
        "outputId": "04685ef9-57fe-403e-8148-0216f8b88762"
      },
      "source": [
        "model.load_weights(checkpoint_path)"
      ],
      "execution_count": 13,
      "outputs": [
        {
          "output_type": "execute_result",
          "data": {
            "text/plain": [
              "<tensorflow.python.training.tracking.util.CheckpointLoadStatus at 0x7f0def21c090>"
            ]
          },
          "metadata": {},
          "execution_count": 13
        }
      ]
    },
    {
      "cell_type": "code",
      "metadata": {
        "id": "d1G5vt1zkOMl",
        "colab": {
          "base_uri": "https://localhost:8080/"
        },
        "outputId": "336a85d2-960d-43a6-d1d7-1000bedab1f1"
      },
      "source": [
        "# reset the testing generator and evaluate the network \n",
        "testGen.reset()\n",
        "predIdxs = model.predict(x=testGen,\n",
        "\tsteps=(no_test_files // 64) + 1)\n",
        "predIdxs = np.argmax(predIdxs, axis=1)\n",
        "print(classification_report(testGen.classes, predIdxs,\n",
        "\ttarget_names=testGen.class_indices.keys()))"
      ],
      "execution_count": 15,
      "outputs": [
        {
          "output_type": "stream",
          "name": "stdout",
          "text": [
            "              precision    recall  f1-score   support\n",
            "\n",
            "       angry       0.62      0.63      0.63       491\n",
            "     disgust       0.65      0.67      0.66        55\n",
            "        fear       0.58      0.39      0.47       528\n",
            "       happy       0.88      0.91      0.89       879\n",
            "     neutral       0.60      0.77      0.67       626\n",
            "         sad       0.57      0.49      0.53       594\n",
            "    surprise       0.77      0.83      0.80       416\n",
            "\n",
            "    accuracy                           0.69      3589\n",
            "   macro avg       0.67      0.67      0.66      3589\n",
            "weighted avg       0.68      0.69      0.68      3589\n",
            "\n"
          ]
        }
      ]
    }
  ]
}