{
  "nbformat": 4,
  "nbformat_minor": 0,
  "metadata": {
    "colab": {
      "name": "TF-emo_detect_model.ipynb",
      "provenance": [],
      "collapsed_sections": [],
      "include_colab_link": true
    },
    "kernelspec": {
      "name": "python3",
      "display_name": "Python 3"
    },
    "language_info": {
      "name": "python"
    },
    "accelerator": "GPU"
  },
  "cells": [
    {
      "cell_type": "markdown",
      "metadata": {
        "id": "view-in-github",
        "colab_type": "text"
      },
      "source": [
        "<a href=\"https://colab.research.google.com/github/vishalsingh1080/endToend_Emotion_detection/blob/main/TF_emo_detect_model.ipynb\" target=\"_parent\"><img src=\"https://colab.research.google.com/assets/colab-badge.svg\" alt=\"Open In Colab\"/></a>"
      ]
    },
    {
      "cell_type": "code",
      "metadata": {
        "id": "kqcEHWEj-Ort"
      },
      "source": [
        "import tensorflow as tf\n",
        "from tensorflow.keras.preprocessing.image import ImageDataGenerator\n",
        "from tensorflow.keras import layers\n",
        "from tensorflow.keras.layers import Dense,Conv2D,Dropout,BatchNormalization,MaxPool2D\n",
        "from tensorflow.keras.activations import relu\n",
        "from tensorflow.keras.callbacks import ModelCheckpoint\n",
        "from tensorflow.keras.optimizers import SGD\n",
        "from tensorflow.keras.losses import CategoricalCrossentropy\n",
        "from tensorflow.keras.callbacks import ReduceLROnPlateau\n",
        "from sklearn.metrics import classification_report\n",
        "import cv2\n",
        "import os\n",
        "import pandas as pd\n",
        "import numpy as np\n",
        "import matplotlib.pyplot as plt\n",
        "from PIL import Image\n",
        "import warnings\n",
        "warnings.filterwarnings(\"ignore\")"
      ],
      "execution_count": 1,
      "outputs": []
    },
    {
      "cell_type": "code",
      "metadata": {
        "colab": {
          "base_uri": "https://localhost:8080/"
        },
        "id": "c5qx_P71-0sX",
        "outputId": "caee4117-0fa0-4e1b-d1bf-467587c8a12e"
      },
      "source": [
        "from google.colab import drive\n",
        "drive.mount('/content/gdrive')"
      ],
      "execution_count": 2,
      "outputs": [
        {
          "output_type": "stream",
          "name": "stdout",
          "text": [
            "Drive already mounted at /content/gdrive; to attempt to forcibly remount, call drive.mount(\"/content/gdrive\", force_remount=True).\n"
          ]
        }
      ]
    },
    {
      "cell_type": "code",
      "metadata": {
        "colab": {
          "base_uri": "https://localhost:8080/",
          "height": 35
        },
        "id": "MkfNgfFWJp5A",
        "outputId": "0f4ff6a3-f807-4816-9f4c-e488830b682b"
      },
      "source": [
        "device_name = tf.test.gpu_device_name()\n",
        "device_name "
      ],
      "execution_count": 3,
      "outputs": [
        {
          "output_type": "execute_result",
          "data": {
            "application/vnd.google.colaboratory.intrinsic+json": {
              "type": "string"
            },
            "text/plain": [
              "'/device:GPU:0'"
            ]
          },
          "metadata": {},
          "execution_count": 3
        }
      ]
    },
    {
      "cell_type": "code",
      "metadata": {
        "id": "GFTNtLXJB-q9"
      },
      "source": [
        "# !unzip -q '/content/gdrive/My Drive/emotion_detection/FER2013.zip' -d FER2013\n",
        "# !unzip -q '/content/gdrive/My Drive/emotion_detection/private_test.zip' -d private_test"
      ],
      "execution_count": 4,
      "outputs": []
    },
    {
      "cell_type": "markdown",
      "metadata": {
        "id": "bFCpIi_-46an"
      },
      "source": [
        "0=Angry, 1=Disgust, 2=Fear, 3=Happy, 4=Sad, 5=Surprise, 6=Neutral"
      ]
    },
    {
      "cell_type": "code",
      "metadata": {
        "colab": {
          "base_uri": "https://localhost:8080/"
        },
        "id": "SNA8uY6HG2Vu",
        "outputId": "f1f0db79-1d52-44bf-e14f-20d93bb40eab"
      },
      "source": [
        "img = cv2.imread('/content/FER2013/train/angry/Training_10118481.jpg')\n",
        "img.shape"
      ],
      "execution_count": 5,
      "outputs": [
        {
          "output_type": "execute_result",
          "data": {
            "text/plain": [
              "(48, 48, 3)"
            ]
          },
          "metadata": {},
          "execution_count": 5
        }
      ]
    },
    {
      "cell_type": "code",
      "metadata": {
        "id": "VTm3bWQeHEo5",
        "colab": {
          "base_uri": "https://localhost:8080/",
          "height": 284
        },
        "outputId": "a527e55a-966b-4028-898a-e3d9763a0e0c"
      },
      "source": [
        "plt.imshow(img)"
      ],
      "execution_count": 6,
      "outputs": [
        {
          "output_type": "execute_result",
          "data": {
            "text/plain": [
              "<matplotlib.image.AxesImage at 0x7f0ca00d9790>"
            ]
          },
          "metadata": {},
          "execution_count": 6
        },
        {
          "output_type": "display_data",
          "data": {
            "image/png": "[encoded data removed]",
            "text/plain": [
              "<Figure size 432x288 with 1 Axes>"
            ]
          },
          "metadata": {
            "needs_background": "light"
          }
        }
      ]
    },
    {
      "cell_type": "code",
      "metadata": {
        "id": "JuCOdreWjPJW",
        "colab": {
          "base_uri": "https://localhost:8080/"
        },
        "outputId": "1e1a784f-f561-4711-e54b-88756a9960f0"
      },
      "source": [
        "img = cv2.imread('/content/private_test/disgust/disgust-000034.png')\n",
        "img.shape"
      ],
      "execution_count": 7,
      "outputs": [
        {
          "output_type": "execute_result",
          "data": {
            "text/plain": [
              "(48, 48, 3)"
            ]
          },
          "metadata": {},
          "execution_count": 7
        }
      ]
    },
    {
      "cell_type": "code",
      "metadata": {
        "id": "H5yV4A0ojya6",
        "colab": {
          "base_uri": "https://localhost:8080/",
          "height": 284
        },
        "outputId": "64fa0aa2-2c2f-4b45-8761-187d33c78876"
      },
      "source": [
        "plt.imshow(img)"
      ],
      "execution_count": 8,
      "outputs": [
        {
          "output_type": "execute_result",
          "data": {
            "text/plain": [
              "<matplotlib.image.AxesImage at 0x7f0ca007bcd0>"
            ]
          },
          "metadata": {},
          "execution_count": 8
        },
        {
          "output_type": "display_data",
          "data": {
            "image/png": "[encoded data removed]",
            "text/plain": [
              "<Figure size 432x288 with 1 Axes>"
            ]
          },
          "metadata": {
            "needs_background": "light"
          }
        }
      ]
    },
    {
      "cell_type": "code",
      "metadata": {
        "id": "QCmYBsxb1xK4"
      },
      "source": [
        "# initialize the training data augmentation object\n",
        "trainAug = ImageDataGenerator( rescale=1./255,\n",
        "                            rotation_range=20,\n",
        "                            width_shift_range=0.2,\n",
        "                            height_shift_range=0.2,\n",
        "                            horizontal_flip=True)\n",
        "# initialize the validation/testing data augmentation object \n",
        "valAug = ImageDataGenerator(rescale=1./255)"
      ],
      "execution_count": 9,
      "outputs": []
    },
    {
      "cell_type": "code",
      "metadata": {
        "colab": {
          "base_uri": "https://localhost:8080/"
        },
        "id": "dKHRbagT2Gv_",
        "outputId": "2b637f31-ca9b-4ad4-d9bc-49000b207836"
      },
      "source": [
        "# initialize the training generator\n",
        "trainGen = trainAug.flow_from_directory(\n",
        "\t'/content/FER2013/train',\n",
        "  class_mode=\"categorical\",\n",
        "\ttarget_size=(48,48),\n",
        "\tcolor_mode=\"grayscale\",\n",
        "\tshuffle=True,\n",
        "\tbatch_size=64)\n",
        "# initialize the validation generator\n",
        "valGen = valAug.flow_from_directory(\n",
        "\t'/content/FER2013/test',\n",
        "  class_mode=\"categorical\",\n",
        "\ttarget_size=(48,48),\n",
        "\tcolor_mode=\"grayscale\",\n",
        "\tshuffle=False,\n",
        "\tbatch_size=64)\n",
        "# initialize the testing generator\n",
        "testGen = valAug.flow_from_directory(\n",
        "\t'/content/private_test',\n",
        "  class_mode=\"categorical\",\n",
        "\ttarget_size=(48,48),\n",
        "\tcolor_mode=\"grayscale\",\n",
        "\tshuffle=False,\n",
        "\tbatch_size=64)"
      ],
      "execution_count": 10,
      "outputs": [
        {
          "output_type": "stream",
          "name": "stdout",
          "text": [
            "Found 28709 images belonging to 7 classes.\n",
            "Found 7178 images belonging to 7 classes.\n",
            "Found 3589 images belonging to 7 classes.\n"
          ]
        }
      ]
    },
    {
      "cell_type": "code",
      "metadata": {
        "id": "KdxYmOBcmQll",
        "colab": {
          "base_uri": "https://localhost:8080/"
        },
        "outputId": "704bc059-105b-462f-e93c-7d82392d8eca"
      },
      "source": [
        "no_train_files =  sum(len(files) for _, _, files in os.walk(r'/content/FER2013/train'))\n",
        "no_val_files = sum(len(files) for _, _, files in os.walk(r'/content/FER2013/test'))\n",
        "no_test_files = sum(len(files) for _, _, files in os.walk(r'/content/private_test'))\n",
        "\n",
        "print(no_train_files,no_val_files,no_test_files)"
      ],
      "execution_count": 11,
      "outputs": [
        {
          "output_type": "stream",
          "name": "stdout",
          "text": [
            "28709 7178 3589\n"
          ]
        }
      ]
    },
    {
      "cell_type": "code",
      "metadata": {
        "id": "8NWQo1mhyMJe",
        "colab": {
          "base_uri": "https://localhost:8080/"
        },
        "outputId": "f841a560-39f8-4f57-d8b7-c6d72d122687"
      },
      "source": [
        "test = next(trainGen)\n",
        "test[0].shape"
      ],
      "execution_count": 12,
      "outputs": [
        {
          "output_type": "execute_result",
          "data": {
            "text/plain": [
              "(64, 48, 48, 1)"
            ]
          },
          "metadata": {},
          "execution_count": 12
        }
      ]
    },
    {
      "cell_type": "code",
      "metadata": {
        "colab": {
          "base_uri": "https://localhost:8080/"
        },
        "id": "PY8jX7rfCJE-",
        "outputId": "fb4cc641-6b8a-4701-ded6-f10581211325"
      },
      "source": [
        "trainGen.class_indices"
      ],
      "execution_count": 13,
      "outputs": [
        {
          "output_type": "execute_result",
          "data": {
            "text/plain": [
              "{'angry': 0,\n",
              " 'disgust': 1,\n",
              " 'fear': 2,\n",
              " 'happy': 3,\n",
              " 'neutral': 4,\n",
              " 'sad': 5,\n",
              " 'surprise': 6}"
            ]
          },
          "metadata": {},
          "execution_count": 13
        }
      ]
    },
    {
      "cell_type": "code",
      "metadata": {
        "id": "DN4Fq8TeT8ii"
      },
      "source": [
        "# path_to_downloaded_file = tf.keras.utils.get_file('rcmalli_vggface_tf_vgg16.h5','https://github.com/rcmalli/keras-vggface/releases/download/v2.0/rcmalli_vggface_tf_notop_vgg16.h5')\n",
        "\n",
        "# baseModel = VGG16(input_shape=(128, 128,3),include_top = False,weights='/root/.keras/datasets/rcmalli_vggface_tf_vgg16.h5',)\n",
        "# # baseModel.summary()\n",
        "# baseModel.layers[-1].output \n",
        "\n",
        "# base_output = baseModel.layers[-1].output \n",
        "# # new head for fine-tuning\n",
        "# x = Flatten(name='flatten')(base_output)\n",
        "# x = Dropout(0.5)(x)\n",
        "# x = Dense(4096, activation='relu', name='fc6')(x)\n",
        "# x = Dropout(0.5)(x)\n",
        "# x = Dense(1024, activation='relu', name='fc7')(x)\n",
        "# out = Dense(7, activation='softmax', name='classifier')(x)\n",
        "\n",
        "# model = Model(baseModel.input, out)\n"
      ],
      "execution_count": 14,
      "outputs": []
    },
    {
      "cell_type": "code",
      "metadata": {
        "id": "lPPCWBDhauS7"
      },
      "source": [
        "def conv2d_custom_pad(input,pad,filters,kernel_size):\n",
        "    \n",
        "    x = tf.pad(input, ((0, 0), (int(pad),int(pad)), (int(pad),int(pad)),(0, 0)), \"CONSTANT\")\n",
        "    x = Conv2D(filters=filters,kernel_size=kernel_size)(x)\n",
        "    return x"
      ],
      "execution_count": 15,
      "outputs": []
    },
    {
      "cell_type": "code",
      "metadata": {
        "id": "zIpg1KCBB5HA"
      },
      "source": [
        "def VGG16(drop=0.2):\n",
        "       \n",
        "      input = tf.keras.Input(shape=(48,48,1))\n",
        "    \n",
        "      conv1a = conv2d_custom_pad(input,pad=1,filters=64,kernel_size=3)\n",
        "      bn1a = BatchNormalization()(conv1a)\n",
        "      x = relu(bn1a)\n",
        "      \n",
        "      conv1b = conv2d_custom_pad(x,pad=1,filters=64,kernel_size=3)\n",
        "      bn1b = BatchNormalization()(conv1b)\n",
        "      x = relu(bn1b)\n",
        "      x = MaxPool2D(2,strides=2)(x)\n",
        "      \n",
        "      conv2a = conv2d_custom_pad(x,pad=1,filters=128,kernel_size=3)\n",
        "      bn2a = BatchNormalization()(conv2a)\n",
        "      x = relu(bn2a)\n",
        "      \n",
        "      conv2b = conv2d_custom_pad(x,pad=1,filters=128,kernel_size=3)\n",
        "      bn2b = BatchNormalization()(conv2b)\n",
        "      x = relu(bn2b)\n",
        "      x = MaxPool2D(2,strides=2)(x)\n",
        "      \n",
        "      conv3a = conv2d_custom_pad(x,pad=1,filters=256,kernel_size=3)\n",
        "      bn3a = BatchNormalization()(conv3a)\n",
        "      x = relu(bn3a)\n",
        "      \n",
        "      conv3b = conv2d_custom_pad(x,pad=1,filters=256,kernel_size=3)\n",
        "      bn3b = BatchNormalization()(conv3b)\n",
        "      x = relu(bn3b)\n",
        "      x = MaxPool2D(2,strides=2)(x)\n",
        "      \n",
        "      conv4a = conv2d_custom_pad(x,pad=1,filters=512,kernel_size=3)\n",
        "      bn4a = BatchNormalization()(conv4a)\n",
        "      x = relu(bn4a)\n",
        "      \n",
        "      conv4b = conv2d_custom_pad(x,pad=1,filters=512,kernel_size=3)\n",
        "      bn4b = BatchNormalization()(conv4b)\n",
        "      x = relu(bn4b)\n",
        "      x = MaxPool2D(2,strides=2)(x)\n",
        "      \n",
        "      x = layers.Flatten()(x)\n",
        "      \n",
        "      x = Dense(4096)(x)\n",
        "      x = Dropout(drop)(x)\n",
        "      x = relu(x)\n",
        "      \n",
        "      x = Dense(4096)(x)\n",
        "      x = Dropout(drop)(x)\n",
        "      x = relu(x)\n",
        "      \n",
        "      output = Dense(7)(x)\n",
        "      #output = tf.nn.softmax(x)\n",
        "\n",
        "      model = tf.keras.Model(input,output)\n",
        "      return model   "
      ],
      "execution_count": 16,
      "outputs": []
    },
    {
      "cell_type": "code",
      "metadata": {
        "id": "ycfLGFgqCgVu",
        "colab": {
          "base_uri": "https://localhost:8080/"
        },
        "outputId": "f2b5d913-ddba-45ec-b8dc-cbdfeac958fb"
      },
      "source": [
        "model = VGG16()\n",
        "model.summary()"
      ],
      "execution_count": 17,
      "outputs": [
        {
          "output_type": "stream",
          "name": "stdout",
          "text": [
            "Model: \"model\"\n",
            "_________________________________________________________________\n",
            "Layer (type)                 Output Shape              Param #   \n",
            "=================================================================\n",
            "input_1 (InputLayer)         [(None, 48, 48, 1)]       0         \n",
            "_________________________________________________________________\n",
            "tf.compat.v1.pad (TFOpLambda (None, 50, 50, 1)         0         \n",
            "_________________________________________________________________\n",
            "conv2d (Conv2D)              (None, 48, 48, 64)        640       \n",
            "_________________________________________________________________\n",
            "batch_normalization (BatchNo (None, 48, 48, 64)        256       \n",
            "_________________________________________________________________\n",
            "tf.nn.relu (TFOpLambda)      (None, 48, 48, 64)        0         \n",
            "_________________________________________________________________\n",
            "tf.compat.v1.pad_1 (TFOpLamb (None, 50, 50, 64)        0         \n",
            "_________________________________________________________________\n",
            "conv2d_1 (Conv2D)            (None, 48, 48, 64)        36928     \n",
            "_________________________________________________________________\n",
            "batch_normalization_1 (Batch (None, 48, 48, 64)        256       \n",
            "_________________________________________________________________\n",
            "tf.nn.relu_1 (TFOpLambda)    (None, 48, 48, 64)        0         \n",
            "_________________________________________________________________\n",
            "max_pooling2d (MaxPooling2D) (None, 24, 24, 64)        0         \n",
            "_________________________________________________________________\n",
            "tf.compat.v1.pad_2 (TFOpLamb (None, 26, 26, 64)        0         \n",
            "_________________________________________________________________\n",
            "conv2d_2 (Conv2D)            (None, 24, 24, 128)       73856     \n",
            "_________________________________________________________________\n",
            "batch_normalization_2 (Batch (None, 24, 24, 128)       512       \n",
            "_________________________________________________________________\n",
            "tf.nn.relu_2 (TFOpLambda)    (None, 24, 24, 128)       0         \n",
            "_________________________________________________________________\n",
            "tf.compat.v1.pad_3 (TFOpLamb (None, 26, 26, 128)       0         \n",
            "_________________________________________________________________\n",
            "conv2d_3 (Conv2D)            (None, 24, 24, 128)       147584    \n",
            "_________________________________________________________________\n",
            "batch_normalization_3 (Batch (None, 24, 24, 128)       512       \n",
            "_________________________________________________________________\n",
            "tf.nn.relu_3 (TFOpLambda)    (None, 24, 24, 128)       0         \n",
            "_________________________________________________________________\n",
            "max_pooling2d_1 (MaxPooling2 (None, 12, 12, 128)       0         \n",
            "_________________________________________________________________\n",
            "tf.compat.v1.pad_4 (TFOpLamb (None, 14, 14, 128)       0         \n",
            "_________________________________________________________________\n",
            "conv2d_4 (Conv2D)            (None, 12, 12, 256)       295168    \n",
            "_________________________________________________________________\n",
            "batch_normalization_4 (Batch (None, 12, 12, 256)       1024      \n",
            "_________________________________________________________________\n",
            "tf.nn.relu_4 (TFOpLambda)    (None, 12, 12, 256)       0         \n",
            "_________________________________________________________________\n",
            "tf.compat.v1.pad_5 (TFOpLamb (None, 14, 14, 256)       0         \n",
            "_________________________________________________________________\n",
            "conv2d_5 (Conv2D)            (None, 12, 12, 256)       590080    \n",
            "_________________________________________________________________\n",
            "batch_normalization_5 (Batch (None, 12, 12, 256)       1024      \n",
            "_________________________________________________________________\n",
            "tf.nn.relu_5 (TFOpLambda)    (None, 12, 12, 256)       0         \n",
            "_________________________________________________________________\n",
            "max_pooling2d_2 (MaxPooling2 (None, 6, 6, 256)         0         \n",
            "_________________________________________________________________\n",
            "tf.compat.v1.pad_6 (TFOpLamb (None, 8, 8, 256)         0         \n",
            "_________________________________________________________________\n",
            "conv2d_6 (Conv2D)            (None, 6, 6, 512)         1180160   \n",
            "_________________________________________________________________\n",
            "batch_normalization_6 (Batch (None, 6, 6, 512)         2048      \n",
            "_________________________________________________________________\n",
            "tf.nn.relu_6 (TFOpLambda)    (None, 6, 6, 512)         0         \n",
            "_________________________________________________________________\n",
            "tf.compat.v1.pad_7 (TFOpLamb (None, 8, 8, 512)         0         \n",
            "_________________________________________________________________\n",
            "conv2d_7 (Conv2D)            (None, 6, 6, 512)         2359808   \n",
            "_________________________________________________________________\n",
            "batch_normalization_7 (Batch (None, 6, 6, 512)         2048      \n",
            "_________________________________________________________________\n",
            "tf.nn.relu_7 (TFOpLambda)    (None, 6, 6, 512)         0         \n",
            "_________________________________________________________________\n",
            "max_pooling2d_3 (MaxPooling2 (None, 3, 3, 512)         0         \n",
            "_________________________________________________________________\n",
            "flatten (Flatten)            (None, 4608)              0         \n",
            "_________________________________________________________________\n",
            "dense (Dense)                (None, 4096)              18878464  \n",
            "_________________________________________________________________\n",
            "dropout (Dropout)            (None, 4096)              0         \n",
            "_________________________________________________________________\n",
            "tf.nn.relu_8 (TFOpLambda)    (None, 4096)              0         \n",
            "_________________________________________________________________\n",
            "dense_1 (Dense)              (None, 4096)              16781312  \n",
            "_________________________________________________________________\n",
            "dropout_1 (Dropout)          (None, 4096)              0         \n",
            "_________________________________________________________________\n",
            "tf.nn.relu_9 (TFOpLambda)    (None, 4096)              0         \n",
            "_________________________________________________________________\n",
            "dense_2 (Dense)              (None, 7)                 28679     \n",
            "=================================================================\n",
            "Total params: 40,380,359\n",
            "Trainable params: 40,376,519\n",
            "Non-trainable params: 3,840\n",
            "_________________________________________________________________\n"
          ]
        }
      ]
    },
    {
      "cell_type": "code",
      "metadata": {
        "id": "fealCfFn9Zls"
      },
      "source": [
        "checkpoint_path = '/content/gdrive/My Drive/emotion_detection/checkpoints/cp.ckpt'\n",
        "\n",
        "model_save = ModelCheckpoint(filepath=checkpoint_path,save_weights_only=True,save_best_only=True,monitor='val_accuracy')"
      ],
      "execution_count": 18,
      "outputs": []
    },
    {
      "cell_type": "code",
      "metadata": {
        "id": "tBSlhMHBHzTG",
        "colab": {
          "base_uri": "https://localhost:8080/"
        },
        "outputId": "4b804456-fa03-4c92-d0a1-d3205c7ccbb3"
      },
      "source": [
        "early_stop = tf.keras.callbacks.EarlyStopping(monitor='val_loss', patience=10)\n",
        "\n",
        "sgd = SGD(lr=0.01, momentum=0.9, decay=0.0001, nesterov=True)\n",
        "rlrop = ReduceLROnPlateau(monitor='val_accuracy',mode='max',factor=0.75, patience=5, min_lr=0.00001, verbose=1)\n",
        "\n",
        "model.compile(loss=CategoricalCrossentropy(from_logits=True), optimizer=sgd,metrics=[\"accuracy\"])\n",
        "\n",
        "with tf.device('/device:GPU:0'):\n",
        "      H = model.fit(\n",
        "        x=trainGen,\n",
        "        steps_per_epoch=no_train_files// 64,\n",
        "        validation_data=valGen,\n",
        "        validation_steps=no_val_files// 64,\n",
        "        epochs=300,\n",
        "        callbacks = [model_save,early_stop,rlrop],\n",
        "        use_multiprocessing=True)\n"
      ],
      "execution_count": 19,
      "outputs": [
        {
          "output_type": "stream",
          "name": "stdout",
          "text": [
            "Epoch 1/300\n",
            "448/448 [==============================] - 61s 127ms/step - loss: 1.8816 - accuracy: 0.2459 - val_loss: 1.8179 - val_accuracy: 0.2497\n",
            "Epoch 2/300\n",
            "448/448 [==============================] - 57s 127ms/step - loss: 1.7652 - accuracy: 0.2685 - val_loss: 1.9693 - val_accuracy: 0.2733\n",
            "Epoch 3/300\n",
            "448/448 [==============================] - 58s 128ms/step - loss: 1.6150 - accuracy: 0.3565 - val_loss: 1.4913 - val_accuracy: 0.4280\n",
            "Epoch 4/300\n",
            "448/448 [==============================] - 57s 128ms/step - loss: 1.4384 - accuracy: 0.4413 - val_loss: 1.3650 - val_accuracy: 0.4679\n",
            "Epoch 5/300\n",
            "448/448 [==============================] - 57s 127ms/step - loss: 1.3342 - accuracy: 0.4850 - val_loss: 1.4000 - val_accuracy: 0.4806\n",
            "Epoch 6/300\n",
            "448/448 [==============================] - 57s 128ms/step - loss: 1.2606 - accuracy: 0.5192 - val_loss: 1.2154 - val_accuracy: 0.5324\n",
            "Epoch 7/300\n",
            "448/448 [==============================] - 57s 127ms/step - loss: 1.2018 - accuracy: 0.5422 - val_loss: 1.2154 - val_accuracy: 0.5273\n",
            "Epoch 8/300\n",
            "448/448 [==============================] - 57s 127ms/step - loss: 1.1599 - accuracy: 0.5574 - val_loss: 1.2048 - val_accuracy: 0.5432\n",
            "Epoch 9/300\n",
            "448/448 [==============================] - 57s 128ms/step - loss: 1.1306 - accuracy: 0.5742 - val_loss: 1.1940 - val_accuracy: 0.5331\n",
            "Epoch 10/300\n",
            "448/448 [==============================] - 57s 127ms/step - loss: 1.1031 - accuracy: 0.5773 - val_loss: 1.1544 - val_accuracy: 0.5575\n",
            "Epoch 11/300\n",
            "448/448 [==============================] - 57s 127ms/step - loss: 1.0806 - accuracy: 0.5888 - val_loss: 1.1014 - val_accuracy: 0.5819\n",
            "Epoch 12/300\n",
            "448/448 [==============================] - 57s 128ms/step - loss: 1.0591 - accuracy: 0.6001 - val_loss: 1.0832 - val_accuracy: 0.5958\n",
            "Epoch 13/300\n",
            "448/448 [==============================] - 57s 128ms/step - loss: 1.0335 - accuracy: 0.6067 - val_loss: 1.0846 - val_accuracy: 0.5932\n",
            "Epoch 14/300\n",
            "448/448 [==============================] - 57s 127ms/step - loss: 1.0153 - accuracy: 0.6162 - val_loss: 1.0720 - val_accuracy: 0.6018\n",
            "Epoch 15/300\n",
            "448/448 [==============================] - 57s 127ms/step - loss: 1.0059 - accuracy: 0.6227 - val_loss: 1.0510 - val_accuracy: 0.6064\n",
            "Epoch 16/300\n",
            "448/448 [==============================] - 57s 128ms/step - loss: 0.9905 - accuracy: 0.6259 - val_loss: 1.0290 - val_accuracy: 0.6110\n",
            "Epoch 17/300\n",
            "448/448 [==============================] - 57s 128ms/step - loss: 0.9695 - accuracy: 0.6355 - val_loss: 1.0728 - val_accuracy: 0.6009\n",
            "Epoch 18/300\n",
            "448/448 [==============================] - 57s 127ms/step - loss: 0.9630 - accuracy: 0.6400 - val_loss: 1.0753 - val_accuracy: 0.6056\n",
            "Epoch 19/300\n",
            "448/448 [==============================] - 57s 127ms/step - loss: 0.9529 - accuracy: 0.6415 - val_loss: 0.9728 - val_accuracy: 0.6350\n",
            "Epoch 20/300\n",
            "448/448 [==============================] - 57s 128ms/step - loss: 0.9382 - accuracy: 0.6445 - val_loss: 0.9766 - val_accuracy: 0.6343\n",
            "Epoch 21/300\n",
            "448/448 [==============================] - 57s 127ms/step - loss: 0.9262 - accuracy: 0.6516 - val_loss: 1.0420 - val_accuracy: 0.6117\n",
            "Epoch 22/300\n",
            "448/448 [==============================] - 57s 127ms/step - loss: 0.9135 - accuracy: 0.6563 - val_loss: 0.9802 - val_accuracy: 0.6348\n",
            "Epoch 23/300\n",
            "448/448 [==============================] - 57s 127ms/step - loss: 0.8984 - accuracy: 0.6633 - val_loss: 0.9655 - val_accuracy: 0.6498\n",
            "Epoch 24/300\n",
            "448/448 [==============================] - 58s 128ms/step - loss: 0.8928 - accuracy: 0.6651 - val_loss: 0.9984 - val_accuracy: 0.6281\n",
            "Epoch 25/300\n",
            "448/448 [==============================] - 57s 127ms/step - loss: 0.8837 - accuracy: 0.6672 - val_loss: 0.9626 - val_accuracy: 0.6444\n",
            "Epoch 26/300\n",
            "448/448 [==============================] - 57s 127ms/step - loss: 0.8777 - accuracy: 0.6701 - val_loss: 0.9827 - val_accuracy: 0.6391\n",
            "Epoch 27/300\n",
            "448/448 [==============================] - 57s 127ms/step - loss: 0.8633 - accuracy: 0.6742 - val_loss: 1.1627 - val_accuracy: 0.5682\n",
            "Epoch 28/300\n",
            "448/448 [==============================] - 57s 127ms/step - loss: 0.8578 - accuracy: 0.6771 - val_loss: 0.9627 - val_accuracy: 0.6408\n",
            "\n",
            "Epoch 00028: ReduceLROnPlateau reducing learning rate to 0.007499999832361937.\n",
            "Epoch 29/300\n",
            "448/448 [==============================] - 57s 127ms/step - loss: 0.8284 - accuracy: 0.6902 - val_loss: 1.0106 - val_accuracy: 0.6179\n",
            "Epoch 30/300\n",
            "448/448 [==============================] - 57s 127ms/step - loss: 0.8212 - accuracy: 0.6925 - val_loss: 0.9634 - val_accuracy: 0.6363\n",
            "Epoch 31/300\n",
            "448/448 [==============================] - 57s 127ms/step - loss: 0.8065 - accuracy: 0.6971 - val_loss: 0.9679 - val_accuracy: 0.6536\n",
            "Epoch 32/300\n",
            "448/448 [==============================] - 57s 127ms/step - loss: 0.7966 - accuracy: 0.7019 - val_loss: 1.0517 - val_accuracy: 0.6151\n",
            "Epoch 33/300\n",
            "448/448 [==============================] - 57s 128ms/step - loss: 0.7933 - accuracy: 0.7024 - val_loss: 0.9364 - val_accuracy: 0.6581\n",
            "Epoch 34/300\n",
            "448/448 [==============================] - 57s 128ms/step - loss: 0.7821 - accuracy: 0.7069 - val_loss: 1.0088 - val_accuracy: 0.6370\n",
            "Epoch 35/300\n",
            "448/448 [==============================] - 57s 127ms/step - loss: 0.7759 - accuracy: 0.7085 - val_loss: 0.9000 - val_accuracy: 0.6685\n",
            "Epoch 36/300\n",
            "448/448 [==============================] - 57s 128ms/step - loss: 0.7648 - accuracy: 0.7110 - val_loss: 0.9653 - val_accuracy: 0.6498\n",
            "Epoch 37/300\n",
            "448/448 [==============================] - 57s 128ms/step - loss: 0.7619 - accuracy: 0.7124 - val_loss: 1.0555 - val_accuracy: 0.6236\n",
            "Epoch 38/300\n",
            "448/448 [==============================] - 57s 127ms/step - loss: 0.7528 - accuracy: 0.7172 - val_loss: 0.9897 - val_accuracy: 0.6415\n",
            "Epoch 39/300\n",
            "448/448 [==============================] - 57s 127ms/step - loss: 0.7482 - accuracy: 0.7190 - val_loss: 1.0199 - val_accuracy: 0.6189\n",
            "Epoch 40/300\n",
            "448/448 [==============================] - 57s 127ms/step - loss: 0.7468 - accuracy: 0.7174 - val_loss: 1.0166 - val_accuracy: 0.6356\n",
            "\n",
            "Epoch 00040: ReduceLROnPlateau reducing learning rate to 0.005624999874271452.\n",
            "Epoch 41/300\n",
            "448/448 [==============================] - 57s 128ms/step - loss: 0.7229 - accuracy: 0.7292 - val_loss: 0.9468 - val_accuracy: 0.6606\n",
            "Epoch 42/300\n",
            "448/448 [==============================] - 57s 127ms/step - loss: 0.7119 - accuracy: 0.7304 - val_loss: 0.9164 - val_accuracy: 0.6741\n",
            "Epoch 43/300\n",
            "448/448 [==============================] - 58s 130ms/step - loss: 0.7017 - accuracy: 0.7365 - val_loss: 1.0375 - val_accuracy: 0.6334\n",
            "Epoch 44/300\n",
            "448/448 [==============================] - 57s 127ms/step - loss: 0.6970 - accuracy: 0.7416 - val_loss: 0.9965 - val_accuracy: 0.6458\n",
            "Epoch 45/300\n",
            "448/448 [==============================] - 57s 128ms/step - loss: 0.6925 - accuracy: 0.7415 - val_loss: 0.9585 - val_accuracy: 0.6671\n"
          ]
        }
      ]
    },
    {
      "cell_type": "code",
      "metadata": {
        "id": "SM2mnyj7oWfN"
      },
      "source": [
        ""
      ],
      "execution_count": null,
      "outputs": []
    },
    {
      "cell_type": "code",
      "metadata": {
        "id": "VlIHY8WzL05D"
      },
      "source": [
        "model.save('/content/gdrive/My Drive/emotion_detection/checkpoints/' + 'VGG16-MyCp' + '.h5')"
      ],
      "execution_count": 20,
      "outputs": []
    },
    {
      "cell_type": "code",
      "metadata": {
        "id": "ysrQQ2VdpmQV"
      },
      "source": [
        ""
      ],
      "execution_count": null,
      "outputs": []
    },
    {
      "cell_type": "markdown",
      "metadata": {
        "id": "1T0Pu2k13zpf"
      },
      "source": [
        ""
      ]
    },
    {
      "cell_type": "code",
      "metadata": {
        "id": "d1G5vt1zkOMl",
        "colab": {
          "base_uri": "https://localhost:8080/"
        },
        "outputId": "48ed4451-4788-44d9-b4cd-44a2ebbb1d45"
      },
      "source": [
        "# reset the testing generator and evaluate the network after\n",
        "# fine-tuning just the network head\n",
        "testGen.reset()\n",
        "predIdxs = model.predict(x=testGen,\n",
        "\tsteps=(no_test_files // 64) + 1)\n",
        "predIdxs = np.argmax(predIdxs, axis=1)\n",
        "print(classification_report(testGen.classes, predIdxs,\n",
        "\ttarget_names=testGen.class_indices.keys()))"
      ],
      "execution_count": 21,
      "outputs": [
        {
          "output_type": "stream",
          "name": "stdout",
          "text": [
            "              precision    recall  f1-score   support\n",
            "\n",
            "       angry       0.69      0.57      0.62       491\n",
            "     disgust       0.55      0.65      0.60        55\n",
            "        fear       0.62      0.38      0.47       528\n",
            "       happy       0.87      0.91      0.89       879\n",
            "     neutral       0.64      0.68      0.66       626\n",
            "         sad       0.47      0.68      0.56       594\n",
            "    surprise       0.83      0.72      0.77       416\n",
            "\n",
            "    accuracy                           0.68      3589\n",
            "   macro avg       0.67      0.65      0.65      3589\n",
            "weighted avg       0.69      0.68      0.68      3589\n",
            "\n"
          ]
        }
      ]
    }
  ]
}